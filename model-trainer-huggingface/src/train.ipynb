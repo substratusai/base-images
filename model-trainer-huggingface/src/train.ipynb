{
 "cells": [
  {
   "cell_type": "markdown",
   "id": "9c3e4532",
   "metadata": {},
   "source": [
    "# Train models using HuggingFace libraries\n",
    "\n",
    "This notebook takes parameters from a params.json file which is automatically\n",
    "created by Substratus K8s operator.\n",
    "\n",
    "The following parameters influence what happens in this notebook:\n",
    "- `dataset_urls`: A comma separated list of URLs. The URLs should point to\n",
    "  json files that contain your training dataset. If unset a json or jsonl\n",
    "  file should be present under the `/content/data/` directory.\n",
    "- `prompt_template`: The prompt template to use for training\n",
    "- `push_to_hub`: if this variable is set a repo id, then the trained\n",
    "  model will get pushed to HuggingFace hub. For example,\n",
    "  set it to \"substratusai/my-model\" to publish to substratusai HF org."
   ]
  },
  {
   "cell_type": "code",
   "execution_count": 1,
   "id": "86ccd646",
   "metadata": {},
   "outputs": [],
   "source": [
    "import json\n",
    "from pathlib import Path\n",
    "\n",
    "params = {}\n",
    "params_path = Path(\"/content/params.json\")\n",
    "if params_path.is_file():\n",
    "    with params_path.open(\"r\", encoding=\"UTF-8\") as params_file:\n",
    "        params = json.load(params_file)\n",
    "\n",
    "params\n"
   ]
  },
  {
   "cell_type": "code",
   "execution_count": 3,
   "id": "9fafd16b-d8c9-47bf-9116-c27b1d43a019",
   "metadata": {},
   "outputs": [
    {
     "name": "stderr",
     "output_type": "stream",
     "text": [
      "Found cached dataset json (/root/.cache/huggingface/datasets/json/default-2d69f16079490881/0.0.0/8bb11242116d547c741b2e8a1f18598ffdd40a1d4f2a2872c7a28b697434bc96)\n"
     ]
    },
    {
     "data": {
      "application/vnd.jupyter.widget-view+json": {
       "model_id": "67dee641ab0a490e9413ed9924ae1859",
       "version_major": 2,
       "version_minor": 0
      },
      "text/plain": [
       "  0%|          | 0/1 [00:00<?, ?it/s]"
      ]
     },
     "metadata": {},
     "output_type": "display_data"
    },
    {
     "data": {
      "text/plain": [
       "DatasetDict({\n",
       "    train: Dataset({\n",
       "        features: ['prompt', 'completion'],\n",
       "        num_rows: 282\n",
       "    })\n",
       "})"
      ]
     },
     "execution_count": 3,
     "metadata": {},
     "output_type": "execute_result"
    }
   ],
   "source": [
    "import os \n",
    "from datasets import load_dataset\n",
    "\n",
    "dataset_urls = params.get(\"dataset_urls\")\n",
    "if dataset_urls:\n",
    "    urls = [u.strip() for u in dataset_urls.split(\",\")]\n",
    "    print(f\"Using the following URLs for the dataset: {urls}\")\n",
    "    data = load_dataset(\"json\", data_files=urls)\n",
    "else:\n",
    "    data = load_dataset(\"json\", data_files=\"/content/data/*.json*\")\n",
    "data"
   ]
  },
  {
   "cell_type": "code",
   "execution_count": null,
   "id": "08e478fa-d095-4145-9bd1-b4feec7bc4f0",
   "metadata": {},
   "outputs": [],
   "source": [
    "import transformers\n",
    "import torch\n",
    "import sys\n",
    "from transformers import AutoTokenizer, AutoModelForCausalLM\n",
    "\n",
    "model_path = \"/content/model/\"\n",
    "trained_model_path = \"/content/artifacts\"\n",
    "trained_model_path_lora = \"/content/artifacts/lora\"\n",
    "\n",
    "tokenizer = AutoTokenizer.from_pretrained(model_path,\n",
    "                                          local_files_only=True,\n",
    "                                          use_fast=False)\n",
    "model = AutoModelForCausalLM.from_pretrained(\n",
    "            model_path, torch_dtype=torch.float16, device_map=\"auto\", trust_remote_code=True, load_in_8bit=True)\n",
    "model"
   ]
  },
  {
   "attachments": {},
   "cell_type": "markdown",
   "id": "4d1e1795-c783-4ddf-999e-f1de19258928",
   "metadata": {},
   "source": [
    "Prompt before fine tuning"
   ]
  },
  {
   "cell_type": "code",
   "execution_count": 4,
   "id": "ec8a1a9f-fe60-49c7-ab20-04034323df8a",
   "metadata": {},
   "outputs": [],
   "source": [
    "default_prompt = \"\"\"\n",
    "Below is an instruction that describes a task. Write a response that appropriately completes the request.\n",
    "### Instruction:\n",
    "{prompt}\n",
    "### Response:\n",
    "{completion}\n",
    "\"\"\"\n",
    "\n",
    "prompt = params.get(\"prompt_template\", default_prompt)\n",
    "print(prompt.format_map(data[\"train\"][0]))"
   ]
  },
  {
   "cell_type": "code",
   "execution_count": null,
   "id": "f5dd944b-e2bd-4bfd-a5fa-55bc90239926",
   "metadata": {},
   "outputs": [
    {
     "name": "stderr",
     "output_type": "stream",
     "text": [
      "Loading cached processed dataset at /root/.cache/huggingface/datasets/json/default-2d69f16079490881/0.0.0/8bb11242116d547c741b2e8a1f18598ffdd40a1d4f2a2872c7a28b697434bc96/cache-7224d2ad124fbca0.arrow\n"
     ]
    },
    {
     "name": "stdout",
     "output_type": "stream",
     "text": [
      "DatasetDict({\n",
      "    train: Dataset({\n",
      "        features: ['prompt', 'completion'],\n",
      "        num_rows: 282\n",
      "    })\n",
      "})\n",
      "After tokenizing: DatasetDict({\n",
      "    train: Dataset({\n",
      "        features: ['prompt', 'completion', 'input_ids', 'token_type_ids', 'attention_mask'],\n",
      "        num_rows: 282\n",
      "    })\n",
      "})\n"
     ]
    }
   ],
   "source": [
    "from typing import Dict\n",
    "# source: https://github.com/artidoro/qlora\n",
    "DEFAULT_PAD_TOKEN = params.get(\"pad_token\", \"[PAD]\")\n",
    "\n",
    "def smart_tokenizer_and_embedding_resize(\n",
    "    special_tokens_dict: Dict,\n",
    "    tokenizer: transformers.PreTrainedTokenizer,\n",
    "    model: transformers.PreTrainedModel,\n",
    "):\n",
    "    \"\"\"Resize tokenizer and embedding.\n",
    "\n",
    "    Note: This is the unoptimized version that may make your embedding size not be divisible by 64.\n",
    "    \"\"\"\n",
    "    num_new_tokens = tokenizer.add_special_tokens(special_tokens_dict)\n",
    "    model.resize_token_embeddings(len(tokenizer))\n",
    "    if num_new_tokens > 0:\n",
    "        input_embeddings_data = model.get_input_embeddings().weight.data\n",
    "        output_embeddings_data = model.get_output_embeddings().weight.data\n",
    "\n",
    "        input_embeddings_avg = input_embeddings_data[:-num_new_tokens].mean(dim=0, keepdim=True)\n",
    "        output_embeddings_avg = output_embeddings_data[:-num_new_tokens].mean(dim=0, keepdim=True)\n",
    "\n",
    "        input_embeddings_data[-num_new_tokens:] = input_embeddings_avg\n",
    "        output_embeddings_data[-num_new_tokens:] = output_embeddings_avg\n",
    "\n",
    "if tokenizer._pad_token is None:\n",
    "    smart_tokenizer_and_embedding_resize(\n",
    "        special_tokens_dict=dict(pad_token=DEFAULT_PAD_TOKEN),\n",
    "        tokenizer=tokenizer,\n",
    "        model=model,\n",
    "    )\n",
    "\n",
    "if isinstance(tokenizer, transformers.LlamaTokenizer):\n",
    "    # LLaMA tokenizer may not have correct special tokens set.\n",
    "    # Check and add them if missing to prevent them from being parsed into different tokens.\n",
    "    # Note that these are present in the vocabulary.\n",
    "    # Note also that `model.config.pad_token_id` is 0 which corresponds to `<unk>` token.\n",
    "    print('Adding special tokens.')\n",
    "    tokenizer.add_special_tokens({\n",
    "            \"eos_token\": tokenizer.convert_ids_to_tokens(model.config.eos_token_id),\n",
    "            \"bos_token\": tokenizer.convert_ids_to_tokens(model.config.bos_token_id),\n",
    "            \"unk_token\": tokenizer.convert_ids_to_tokens(\n",
    "                model.config.pad_token_id if model.config.pad_token_id != -1 else tokenizer.pad_token_id\n",
    "            ),\n",
    "    })\n",
    "\n",
    "tokenizer"
   ]
  },
  {
   "cell_type": "code",
   "execution_count": null,
   "id": "e78b510d",
   "metadata": {},
   "outputs": [],
   "source": [
    "from typing import Dict\n",
    "\n",
    "def generate_prompt(dataset_entry: Dict):\n",
    "    tokens = tokenizer(prompt.format_map(dataset_entry), padding='max_length', truncation=True)\n",
    "    last_token = tokens[\"input_ids\"][-1]\n",
    "    nr_of_tokens = len(tokens[\"input_ids\"])\n",
    "    if last_token != tokenizer.eos_token_id and nr_of_tokens < tokenizer.model_max_length:\n",
    "            tokens[\"input_ids\"].append(tokenizer.eos_token_id)\n",
    "            tokens[\"attention_mask\"].append(1)\n",
    "\n",
    "data = data.map(generate_prompt)\n",
    "\n",
    "print(\"After tokenizing:\", data)"
   ]
  },
  {
   "cell_type": "code",
   "execution_count": null,
   "id": "5dae6c6f-3ae1-4697-852e-fce24a82b9e8",
   "metadata": {},
   "outputs": [
    {
     "name": "stdout",
     "output_type": "stream",
     "text": [
      "trainable params: 4,718,592 || all params: 6,926,439,296 || trainable%: 0.06812435363037071\n"
     ]
    }
   ],
   "source": [
    "from peft import get_peft_model, LoraConfig, prepare_model_for_kbit_training\n",
    "\n",
    "lora_config2 = LoraConfig(\n",
    " r=16,\n",
    " lora_alpha=16,\n",
    " lora_dropout=0.05,\n",
    " bias=\"none\",\n",
    " task_type=\"CAUSAL_LM\"\n",
    ")\n",
    "target_modules = params.get(\"target_modules\")\n",
    "if target_modules:\n",
    "    lora_config2.target_modules = [mod.strip() for mod in target_modules.split(\",\")]\n",
    "\n",
    "model = prepare_model_for_kbit_training(model)\n",
    "\n",
    "# add LoRA adaptor\n",
    "model = get_peft_model(model, lora_config2)\n",
    "model.print_trainable_parameters()"
   ]
  },
  {
   "cell_type": "code",
   "execution_count": null,
   "id": "70a3e36c-62cf-45aa-8f37-0db0e40857dc",
   "metadata": {},
   "outputs": [],
   "source": [
    "from utils import parse_training_args\n",
    "\n",
    "training_args = parse_training_args(params)\n",
    "training_args"
   ]
  },
  {
   "cell_type": "code",
   "execution_count": null,
   "id": "b33e407a-9d4f-49f6-a74b-b80db8cc3a8a",
   "metadata": {},
   "outputs": [],
   "source": [
    "trainer = transformers.Trainer(\n",
    "    model=model,\n",
    "    train_dataset=data[\"train\"],\n",
    "    args=training_args,\n",
    "    data_collator=transformers.DataCollatorForLanguageModeling(tokenizer, mlm=False),\n",
    ")\n",
    "model.config.use_cache = False  # silence the warnings. Please re-enable for inference!\n",
    "\n",
    "checkpoint_path = Path(\"/content/artifacts/checkpoints\")\n",
    "\n",
    "# Only set resume_from_checkpoint True when directory exists and contains files\n",
    "resume_from_checkpoint = checkpoint_path.is_dir() and any(checkpoint_path.iterdir())\n",
    "if resume_from_checkpoint:\n",
    "    print(\"Resuming from checkpoint:\", list(checkpoint_path.rglob(\"\")))\n",
    "trainer.train(resume_from_checkpoint=resume_from_checkpoint)\n",
    "\n",
    "trainer.save_model(trained_model_path)"
   ]
  },
  {
   "cell_type": "code",
   "execution_count": null,
   "id": "dea4e68e-57a7-48bd-bad9-f03dfe3f8a06",
   "metadata": {},
   "outputs": [],
   "source": [
    "! nvidia-smi"
   ]
  },
  {
   "cell_type": "code",
   "execution_count": null,
   "id": "f2f5dc80",
   "metadata": {},
   "outputs": [],
   "source": [
    "! ls -lash {trained_model_path}"
   ]
  },
  {
   "cell_type": "code",
   "execution_count": null,
   "id": "04651d47",
   "metadata": {},
   "outputs": [],
   "source": [
    "inference_prompt = params.get(\"inference_prompt_template\")\n",
    "if inference_prompt:\n",
    "    model.config.use_cache = True\n",
    "    device = \"cuda\"\n",
    "    model_inputs = tokenizer([inference_prompt.format_map(data[\"train\"][0])],\n",
    "                             return_tensors=\"pt\").to(device)\n",
    "\n",
    "    generated_ids = model.generate(**model_inputs,\n",
    "                                   max_new_tokens=300)\n",
    "\n",
    "    print(tokenizer.decode(generated_ids[0], skip_special_tokens=True))"
   ]
  },
  {
   "cell_type": "code",
   "execution_count": null,
   "id": "3837a68d-6a98-494e-a890-1135509c546e",
   "metadata": {},
   "outputs": [],
   "source": [
    "! mkdir -p {trained_model_path_lora}\n",
    "model.save_pretrained(trained_model_path_lora)"
   ]
  },
  {
   "cell_type": "code",
   "execution_count": null,
   "id": "09db36b7-ead6-4368-9bfb-13ba1ba800a5",
   "metadata": {},
   "outputs": [],
   "source": [
    "from peft import PeftModel\n",
    "\n",
    "print(\"Clearing existing GPU memory to merge lora with base model\")\n",
    "del model\n",
    "torch.cuda.empty_cache()\n",
    "\n",
    "# Note this needs to happen in 16 bit hence the reload of the model\n",
    "base_model = AutoModelForCausalLM.from_pretrained(\n",
    "            model_path, torch_dtype=torch.float16, device_map=\"auto\", trust_remote_code=True)\n",
    "\n",
    "model = PeftModel.from_pretrained(base_model, trained_model_path_lora, torch_dtype=torch.float16)\n",
    "model.merge_and_unload()"
   ]
  },
  {
   "cell_type": "code",
   "execution_count": null,
   "id": "260e9d79-6eb8-4516-bf8f-825a25606391",
   "metadata": {},
   "outputs": [
    {
     "name": "stdout",
     "output_type": "stream",
     "text": [
      "huggingface/tokenizers: The current process just got forked, after parallelism has already been used. Disabling parallelism to avoid deadlocks...\n",
      "To disable this warning, you can either:\n",
      "\t- Avoid using `tokenizers` before the fork if possible\n",
      "\t- Explicitly set the environment variable TOKENIZERS_PARALLELISM=(true | false)\n"
     ]
    }
   ],
   "source": [
    "model.save_pretrained(trained_model_path)\n",
    "tokenizer.save_pretrained(trained_model_path)"
   ]
  },
  {
   "cell_type": "code",
   "execution_count": null,
   "id": "6d90a920-fb22-4291-8466-411ff41e31be",
   "metadata": {},
   "outputs": [
    {
     "name": "stdout",
     "output_type": "stream",
     "text": [
      "huggingface/tokenizers: The current process just got forked, after parallelism has already been used. Disabling parallelism to avoid deadlocks...\n",
      "To disable this warning, you can either:\n",
      "\t- Avoid using `tokenizers` before the fork if possible\n",
      "\t- Explicitly set the environment variable TOKENIZERS_PARALLELISM=(true | false)\n",
      "total 13G\n",
      "4.0K drwxr-xr-x 1 root root 4.0K Jul  5 22:35 .\n",
      "8.0K drwxr-xr-x 1 root root 4.0K Jul  5 10:00 ..\n",
      "4.0K -rw-r--r-- 1 root root  707 Jul  5 22:35 config.json\n",
      "4.0K -rw-r--r-- 1 root root  116 Jul  5 22:35 generation_config.json\n",
      "9.3G -rw-r--r-- 1 root root 9.3G Jul  5 22:35 pytorch_model-00001-of-00002.bin\n",
      "3.7G -rw-r--r-- 1 root root 3.7G Jul  5 22:35 pytorch_model-00002-of-00002.bin\n",
      " 20K -rw-r--r-- 1 root root  17K Jul  5 22:35 pytorch_model.bin.index.json\n"
     ]
    }
   ],
   "source": [
    "! ls -lash {trained_model_path}"
   ]
  },
  {
   "cell_type": "code",
   "execution_count": null,
   "id": "f29b870a",
   "metadata": {},
   "outputs": [],
   "source": [
    "print(\"Running inference after merging lora layer\")\n",
    "inference_prompt = params.get(\"inference_prompt_template\")\n",
    "if inference_prompt:\n",
    "    model.config.use_cache = True\n",
    "    device = \"cuda\"\n",
    "    model_inputs = tokenizer([inference_prompt.format_map(data[\"train\"][0])],\n",
    "                             return_tensors=\"pt\").to(device)\n",
    "\n",
    "    generated_ids = model.generate(**model_inputs,\n",
    "                                   max_new_tokens=300)\n",
    "\n",
    "    print(tokenizer.decode(generated_ids[0], skip_special_tokens=True))"
   ]
  },
  {
   "cell_type": "code",
   "execution_count": null,
   "id": "202a694a",
   "metadata": {},
   "outputs": [],
   "source": [
    "from huggingface_hub import HfApi\n",
    "import shutil\n",
    "\n",
    "tokenizer_model_path_base = Path(model_path) / \"tokenizer.model\"\n",
    "tokenizer_model_path_trained = Path(trained_model_path) / \"tokenizer.model\"\n",
    "if tokenizer_model_path_base.exists() and not tokenizer_model_path_trained.exists():\n",
    "    shutil.copy(tokenizer_model_path_base, tokenizer_model_path_trained)\n",
    "\n",
    "repo_id = params.get(\"push_to_hub\")\n",
    "if repo_id:\n",
    "    model.push_to_hub(repo_id)\n",
    "    tokenizer.push_to_hub(repo_id)\n",
    "    hf_api = HfApi()\n",
    "    # Upload tokenizer.model if it was in base model\n",
    "    if tokenizer_model_path_base.exists():\n",
    "        hf_api.upload_file(\n",
    "            path_or_fileobj=tokenizer_model_path_base,\n",
    "            path_in_repo=tokenizer_model_path_base.name,\n",
    "            repo_id=repo_id,\n",
    "        )\n",
    "    logs_path = Path(\"/content/artifacts/src/train.ipynb\")\n",
    "    if logs_path.exists():\n",
    "        hf_api.upload_file(\n",
    "            path_or_fileobj=logs_path,\n",
    "            path_in_repo=logs_path.name,\n",
    "            repo_id=repo_id,\n",
    "        )\n"
   ]
  },
  {
   "cell_type": "code",
   "execution_count": null,
   "id": "dccc5670",
   "metadata": {},
   "outputs": [],
   "source": []
  }
 ],
 "metadata": {
  "kernelspec": {
   "display_name": "Python 3 (ipykernel)",
   "language": "python",
   "name": "python3"
  },
  "language_info": {
   "codemirror_mode": {
    "name": "ipython",
    "version": 3
   },
   "file_extension": ".py",
   "mimetype": "text/x-python",
   "name": "python",
   "nbconvert_exporter": "python",
   "pygments_lexer": "ipython3",
   "version": "3.11.5"
  }
 },
 "nbformat": 4,
 "nbformat_minor": 5
}
