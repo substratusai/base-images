{
 "cells": [
  {
   "cell_type": "code",
   "execution_count": 1,
   "id": "dfe44836-9ed7-4e33-8905-a096b79910e1",
   "metadata": {},
   "outputs": [],
   "source": [
    "import os\n",
    "\n",
    "\n",
    "model_id = os.environ.get(\"PARAM_NAME\")\n",
    "if not model_id:\n",
    "    raise ValueError(\"Missing required environment variable PARAM_NAME. Set `params: {name: hf_org/model_id} in the model spec` \")\n",
    "\n",
    "output_dir = os.environ.get(\"OUTPUT_DIR\", \"/content/model\")\n",
    "\n",
    "# snapshot_download(repo_id=model_id, local_dir=output_dir, local_dir_use_symlinks=False, revision=\"main\")"
   ]
  },
  {
   "cell_type": "code",
   "execution_count": 3,
   "id": "be15516c",
   "metadata": {},
   "outputs": [
    {
     "data": {
      "text/plain": [
       "['.gitattributes',\n",
       " 'LICENSE.md',\n",
       " 'README.md',\n",
       " 'config.json',\n",
       " 'flax_model.msgpack',\n",
       " 'generation_config.json',\n",
       " 'merges.txt',\n",
       " 'pytorch_model.bin',\n",
       " 'special_tokens_map.json',\n",
       " 'tf_model.h5',\n",
       " 'tokenizer_config.json',\n",
       " 'vocab.json']"
      ]
     },
     "execution_count": 3,
     "metadata": {},
     "output_type": "execute_result"
    }
   ],
   "source": [
    "from huggingface_hub.hf_api import model_info\n",
    "\n",
    "model = model_info(model_id)\n",
    "\n",
    "filenames = [f.rfilename for f in model.siblings ]\n",
    "filenames"
   ]
  },
  {
   "cell_type": "code",
   "execution_count": 4,
   "id": "7983d9be",
   "metadata": {},
   "outputs": [
    {
     "data": {
      "text/plain": [
       "['.gitattributes',\n",
       " 'LICENSE.md',\n",
       " 'README.md',\n",
       " 'config.json',\n",
       " 'flax_model.msgpack',\n",
       " 'generation_config.json',\n",
       " 'merges.txt',\n",
       " 'pytorch_model.bin',\n",
       " 'special_tokens_map.json',\n",
       " 'tf_model.h5',\n",
       " 'tokenizer_config.json',\n",
       " 'vocab.json']"
      ]
     },
     "execution_count": 4,
     "metadata": {},
     "output_type": "execute_result"
    }
   ],
   "source": [
    "filenames = list(filter(lambda f: not f.startswith(\"coreml/\"), filenames))\n",
    "filenames"
   ]
  },
  {
   "cell_type": "code",
   "execution_count": 5,
   "id": "6cc3beac",
   "metadata": {},
   "outputs": [
    {
     "name": "stdout",
     "output_type": "stream",
     "text": [
      "Downloading .gitattributes to /content/model/.gitattributes\n",
      "Downloading LICENSE.md to /content/model/LICENSE.md\n",
      "Downloading README.md to /content/model/README.md\n",
      "Downloading config.json to /content/model/config.json\n",
      "Downloading flax_model.msgpack to /content/model/flax_model.msgpack\n",
      "Downloading generation_config.json to /content/model/generation_config.json\n",
      "Downloading merges.txt to /content/model/merges.txt\n",
      "Downloading pytorch_model.bin to /content/model/pytorch_model.bin\n",
      "Downloading special_tokens_map.json to /content/model/special_tokens_map.json\n",
      "Downloading tf_model.h5 to /content/model/tf_model.h5\n",
      "Downloading tokenizer_config.json to /content/model/tokenizer_config.json\n",
      "Downloading vocab.json to /content/model/vocab.json\n",
      "Finished downloading /content/model/generation_config.json\n",
      "Finished downloading /content/model/README.md\n",
      "Finished downloading /content/model/flax_model.msgpack\n",
      "Finished downloading /content/model/vocab.json\n",
      "Finished downloading /content/model/LICENSE.md\n",
      "Finished downloading /content/model/special_tokens_map.json\n",
      "Finished downloading /content/model/config.json\n",
      "Finished downloading /content/model/pytorch_model.bin\n",
      "Finished downloading /content/model/tokenizer_config.json\n",
      "Finished downloading /content/model/tf_model.h5\n",
      "Finished downloading /content/model/merges.txt\n",
      "Finished downloading /content/model/.gitattributes\n"
     ]
    }
   ],
   "source": [
    "import urllib.request\n",
    "from huggingface_hub import hf_hub_url\n",
    "from concurrent.futures import ThreadPoolExecutor, as_completed\n",
    "\n",
    "\n",
    "def download_file(filename: str) -> str:\n",
    "    destination = f\"{output_dir}/{filename}\"\n",
    "    print(f\"Downloading {filename} to {destination}\")\n",
    "    url = hf_hub_url(model_id, filename)\n",
    "    urllib.request.urlretrieve(url, destination)\n",
    "    return destination\n",
    "\n",
    "processes = []\n",
    "with ThreadPoolExecutor(max_workers=10) as executor:\n",
    "    for filename in filenames:\n",
    "        processes.append(executor.submit(download_file, filename))\n",
    "\n",
    "for task in as_completed(processes):\n",
    "    print(f\"Finished downloading {task.result()}\")"
   ]
  },
  {
   "cell_type": "code",
   "execution_count": 6,
   "id": "89545c70-8e54-4265-aab7-e42e5fb606d6",
   "metadata": {},
   "outputs": [
    {
     "name": "stdout",
     "output_type": "stream",
     "text": [
      "total 724M\n",
      "   0 drwxr-xr-x 14 root root  448 Jul 16 17:12 .\n",
      "4.0K drwxr-xr-x  1 root root 4.0K Jul 16 17:11 ..\n",
      "4.0K -rw-r--r--  1 root root 1.2K Jul 16 17:12 .gitattributes\n",
      " 12K -rw-r--r--  1 root root  11K Jul 16 17:12 LICENSE.md\n",
      "8.0K -rw-r--r--  1 root root 7.0K Jul 16 17:12 README.md\n",
      "4.0K -rw-r--r--  1 root root  651 Jul 16 17:12 config.json\n",
      "241M -rw-r--r--  1 root root 239M Jul 16 17:13 flax_model.msgpack\n",
      "4.0K -rw-r--r--  1 root root  137 Jul 16 17:12 generation_config.json\n",
      "448K -rw-r--r--  1 root root 446K Jul 16 17:12 merges.txt\n",
      "241M -rw-r--r--  1 root root 239M Jul 16 17:13 pytorch_model.bin\n",
      "4.0K -rw-r--r--  1 root root  441 Jul 16 17:12 special_tokens_map.json\n",
      "241M -rw-r--r--  1 root root 240M Jul 16 17:13 tf_model.h5\n",
      "4.0K -rw-r--r--  1 root root  685 Jul 16 17:12 tokenizer_config.json\n",
      "880K -rw-r--r--  1 root root 878K Jul 16 17:12 vocab.json\n"
     ]
    }
   ],
   "source": [
    "! ls -lash /content/model"
   ]
  }
 ],
 "metadata": {
  "kernelspec": {
   "display_name": "Python 3 (ipykernel)",
   "language": "python",
   "name": "python3"
  },
  "language_info": {
   "codemirror_mode": {
    "name": "ipython",
    "version": 3
   },
   "file_extension": ".py",
   "mimetype": "text/x-python",
   "name": "python",
   "nbconvert_exporter": "python",
   "pygments_lexer": "ipython3",
   "version": "3.8.10"
  }
 },
 "nbformat": 4,
 "nbformat_minor": 5
}
