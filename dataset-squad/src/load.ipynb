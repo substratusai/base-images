{
 "cells": [
  {
   "cell_type": "markdown",
   "id": "ead0b7e2",
   "metadata": {},
   "source": [
    "Download SQuAD 2.0 dataset and convert to LLM-friendly JSONL format."
   ]
  },
  {
   "cell_type": "code",
   "execution_count": 1,
   "id": "3397f847",
   "metadata": {},
   "outputs": [],
   "source": [
    "import urllib.request\n",
    "import json\n",
    "import os"
   ]
  },
  {
   "cell_type": "code",
   "execution_count": 2,
   "id": "33c8a1ed",
   "metadata": {},
   "outputs": [],
   "source": [
    "# For development of this script, use a smaller sized dataset:\n",
    "# \"https://rajpurkar.github.io/SQuAD-explorer/dataset/dev-v2.0.json\"\n",
    "data_url = \"https://rajpurkar.github.io/SQuAD-explorer/dataset/train-v2.0.json\"\n",
    "raw_file_path = \"/tmp/squad.json\"\n",
    "transformed_file_path = \"/content/artifacts/all.jsonl\""
   ]
  },
  {
   "cell_type": "code",
   "execution_count": null,
   "id": "ce5e89c4",
   "metadata": {},
   "outputs": [],
   "source": [
    "urllib.request.urlretrieve(data_url, raw_file_path)"
   ]
  },
  {
   "cell_type": "code",
   "execution_count": null,
   "id": "5063c6c2-86cf-48d0-a453-b3a5ce00e72b",
   "metadata": {},
   "outputs": [],
   "source": [
    "!cat { raw_file_path } | cut -c1-300"
   ]
  },
  {
   "cell_type": "code",
   "execution_count": null,
   "id": "b9374a41-0170-4997-bcd7-6f9a5fd8212c",
   "metadata": {},
   "outputs": [],
   "source": [
    "def convert_squad_to_jsonl(input_file, output_file):\n",
    "    with open(input_file, 'r', encoding='utf-8') as file:\n",
    "        squad_data = json.load(file)\n",
    "    \n",
    "    jsonl_data = []\n",
    "    \n",
    "    for article in squad_data['data']:\n",
    "        for paragraph in article['paragraphs']:\n",
    "            # TODO: Do something with context? context = paragraph['context']\n",
    "            for qa in paragraph['qas']:\n",
    "                answer_texts = []\n",
    "                for answer in qa['answers']:\n",
    "                    answer_texts.append(answer['text'])\n",
    "                for answer_text in set(answer_texts):\n",
    "                    jsonl_data.append({'prompt': qa['question'], 'completion': answer_text})\n",
    "    \n",
    "    with open(output_file, 'w', encoding='utf-8') as file:\n",
    "        for entry in jsonl_data:\n",
    "            json.dump(entry, file)\n",
    "            file.write('\\n')\n",
    "    \n",
    "    print(f\"Conversion complete. JSONL file saved as {output_file}\")\n",
    "\n",
    "convert_squad_to_jsonl(raw_file_path, transformed_file_path)"
   ]
  },
  {
   "cell_type": "code",
   "execution_count": null,
   "id": "ef057cc4-c403-4de5-a6cd-19adb2d086f7",
   "metadata": {},
   "outputs": [],
   "source": [
    "!head -n 10 { transformed_file_path }"
   ]
  },
  {
   "cell_type": "code",
   "execution_count": null,
   "id": "8ede2d43-67e3-4179-ad4c-1a6c6a0c249a",
   "metadata": {},
   "outputs": [],
   "source": []
  }
 ],
 "metadata": {
  "jupytext": {
   "cell_metadata_filter": "-all",
   "main_language": "python",
   "notebook_metadata_filter": "-all"
  },
  "kernelspec": {
   "display_name": "Python 3 (ipykernel)",
   "language": "python",
   "name": "python3"
  },
  "language_info": {
   "codemirror_mode": {
    "name": "ipython",
    "version": 3
   },
   "file_extension": ".py",
   "mimetype": "text/x-python",
   "name": "python",
   "nbconvert_exporter": "python",
   "pygments_lexer": "ipython3",
   "version": "3.10.12"
  }
 },
 "nbformat": 4,
 "nbformat_minor": 5
}
